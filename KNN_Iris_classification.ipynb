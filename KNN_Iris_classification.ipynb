{
 "cells": [
  {
   "cell_type": "code",
   "execution_count": 19,
   "metadata": {},
   "outputs": [],
   "source": [
    "import math \n",
    "from collections import Counter\n",
    "import pandas as pd"
   ]
  },
  {
   "cell_type": "code",
   "execution_count": 71,
   "metadata": {},
   "outputs": [],
   "source": [
    "def knn (data, k, entry ,type_prediction):\n",
    "    distances_indexes = []\n",
    "    # iterate over data\n",
    "    for i, d in enumerate(data):\n",
    "        #Calculate the distance betwwen the actual training example and the entry \n",
    "        \n",
    "        distance = euclidean_distance(d[:-1],entry)\n",
    "        #Store the result with its correspending index of the training example in a list of tuples\n",
    "        distances_indexes.append((distance,i))\n",
    "    \n",
    "    # Sort the list in ascending order\n",
    "    distances_indexes=sorted(distances_indexes)\n",
    "    \n",
    "    #Pick the K fist elts of the sorted list \n",
    "    k_nearest_distances = distances_indexes[:k]\n",
    "    \n",
    "    #Get the coresponing labels \n",
    "    k_nearest_labels = [data[i][1] for d,i in k_nearest_distances]\n",
    "    \n",
    "    \n",
    "    #depending on the type of prediction the fct will return a value: \n",
    "    #the mean of the labels in case of regression \n",
    "    #the mode of the labels in case of classification\n",
    "    \n",
    "    return type_prediction(k_nearest_labels)\n",
    "\n",
    "\n",
    "def euclidean_distance(p1, p2):\n",
    "    distance = 0 \n",
    "    for i in range(len(p1)):\n",
    "        distance += math.pow(float(p1[i]) - float(p2[i]),2)\n",
    "    return distance\n",
    "        \n",
    "def mean(labels):\n",
    "    return (sum(lables) / len(labels))\n",
    "\n",
    "def mode(labels):\n",
    "    return(Counter(labels).most_common(1)[0][0])\n",
    "\n",
    "    \n",
    "def main():\n",
    "    #Load the iris dataset\n",
    "    iris = pd.read_csv('Iris.csv')\n",
    "    iris.head()\n",
    "    iris = [(a,b,c,d) for (a,b,c,d) in [(iris['SepalLengthCm'][i],iris['SepalWidthCm'][i],iris['PetalLengthCm'][i],iris['PetalWidthCm'][i]) for i in range(len( iris['Id']))]]\n",
    "    \n",
    "    entry = [5, 5 ,1 ]\n",
    "\n",
    "    # Make prediction \n",
    "    prediction = knn(iris,  10, entry, mode)\n",
    "    \n",
    "    print(60*\"*\")\n",
    "    print(\"The value predicted is: {}\".format(prediction))\n",
    "    \n",
    "    "
   ]
  },
  {
   "cell_type": "code",
   "execution_count": 72,
   "metadata": {},
   "outputs": [
    {
     "name": "stdout",
     "output_type": "stream",
     "text": [
      "************************************************************\n",
      "The value predicted is: 3.9\n"
     ]
    }
   ],
   "source": [
    "if __name__ == '__main__':\n",
    "    main()"
   ]
  },
  {
   "cell_type": "code",
   "execution_count": null,
   "metadata": {},
   "outputs": [],
   "source": []
  },
  {
   "cell_type": "code",
   "execution_count": null,
   "metadata": {},
   "outputs": [],
   "source": []
  }
 ],
 "metadata": {
  "kernelspec": {
   "display_name": "Python 3",
   "language": "python",
   "name": "python3"
  },
  "language_info": {
   "codemirror_mode": {
    "name": "ipython",
    "version": 3
   },
   "file_extension": ".py",
   "mimetype": "text/x-python",
   "name": "python",
   "nbconvert_exporter": "python",
   "pygments_lexer": "ipython3",
   "version": "3.7.4"
  }
 },
 "nbformat": 4,
 "nbformat_minor": 2
}
